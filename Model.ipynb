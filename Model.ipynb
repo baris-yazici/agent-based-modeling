{
 "cells": [
  {
   "cell_type": "markdown",
   "metadata": {},
   "source": [
    "# Agent-based Model\n",
    "\n",
    "Source: https://mesa.readthedocs.io/en/stable/tutorials/intro_tutorial.html#introductory-tutorial"
   ]
  },
  {
   "cell_type": "code",
   "execution_count": null,
   "metadata": {},
   "outputs": [],
   "source": [
    "# Libraries\n",
    "\n",
    "# Agent-based modeling\n",
    "import mesa\n",
    "\n",
    "# Data visualization\n",
    "import seaborn as sns\n",
    "\n",
    "# Data manipulation\n",
    "import numpy as np\n",
    "import pandas as pd"
   ]
  },
  {
   "cell_type": "code",
   "execution_count": null,
   "metadata": {},
   "outputs": [],
   "source": [
    "# Create the agent\n",
    "class MoneyAgent(mesa.Agent):\n",
    "    \"\"\"An agent with fixed initial wealth.\"\"\"\n",
    "\n",
    "    def __init__(self, unique_id, model):\n",
    "        # Pass the parameters to the parent class.\n",
    "        super().__init__(unique_id, model)\n",
    "\n",
    "        # Create the agent's attribute and set the initial values.\n",
    "        self.wealth = 1\n",
    "\n",
    "    def step(self):\n",
    "        # The agent's step will go here.\n",
    "        # For demonstration purposes we will print the agent's unique_id\n",
    "        print(f\"Hi, I am an agent, you can call me {str(self.unique_id)}.\")"
   ]
  },
  {
   "cell_type": "code",
   "execution_count": null,
   "metadata": {},
   "outputs": [],
   "source": [
    "# Create the model\n",
    "class MoneyModel(mesa.Model):\n",
    "    \"\"\"A model with some number of agents.\"\"\"\n",
    "\n",
    "    def __init__(self, N):\n",
    "        self.num_agents = N\n",
    "        # Create scheduler and assign it to the model\n",
    "        self.schedule = mesa.time.RandomActivation(self)\n",
    "\n",
    "        # Create agents\n",
    "        for i in range(self.num_agents):\n",
    "            a = MoneyAgent(i, self)\n",
    "            # Add the agent to the scheduler\n",
    "            self.schedule.add(a)\n",
    "\n",
    "    def step(self):\n",
    "        \"\"\"Advance the model by one step.\"\"\"\n",
    "\n",
    "        # The model's step will go here for now this will call the step method of each agent and print the agent's unique_id\n",
    "        self.schedule.step()"
   ]
  }
 ],
 "metadata": {
  "language_info": {
   "name": "python"
  }
 },
 "nbformat": 4,
 "nbformat_minor": 2
}
