{
 "cells": [
  {
   "cell_type": "code",
   "execution_count": 3,
   "metadata": {},
   "outputs": [],
   "source": [
    "# Libraries\n",
    "\n",
    "# Agent-based modeling\n",
    "import mesa\n",
    "\n",
    "# Data visualization\n",
    "import seaborn as sns\n",
    "import matplotlib.pyplot as plt\n",
    "\n",
    "# Data manipulation\n",
    "import numpy as np\n",
    "import pandas as pd\n",
    "\n",
    "# Calculations\n",
    "import math"
   ]
  },
  {
   "cell_type": "code",
   "execution_count": 4,
   "metadata": {},
   "outputs": [],
   "source": [
    "## metrics used\n",
    "\n",
    "# gini index\n",
    "def compute_gini(model):\n",
    "    agent_wealths = [agent.wealth for agent in model.schedule.agents]\n",
    "    x = sorted(agent_wealths)\n",
    "    N = model.num_agents\n",
    "    B = sum(xi * (N - i) for i, xi in enumerate(x)) / (N * sum(x))\n",
    "    return 1 + (1 / N) - 2 * B\n",
    "\n",
    "# (A) sensitive attribute\n",
    "    # individuals from group A1\n",
    "    # infividiuals from group A2\n",
    "\n",
    "# company's cost increase as they provide service to more areas\n",
    "# areas where A1 live have a higher earning, which is why company discriminates \n",
    "    # addition will be made: company will make more money if they provide service to A1 areas"
   ]
  },
  {
   "cell_type": "markdown",
   "metadata": {},
   "source": [
    "# Fair Scenario"
   ]
  },
  {
   "cell_type": "code",
   "execution_count": null,
   "metadata": {},
   "outputs": [],
   "source": [
    "# this will be added to the model, essentially it's the same as the step k case with k = 0 (Check bottom)"
   ]
  },
  {
   "cell_type": "markdown",
   "metadata": {},
   "source": [
    "# Discrimination Scenario"
   ]
  },
  {
   "cell_type": "markdown",
   "metadata": {},
   "source": [
    "We use square root utility function for diminishing marginal utility.\n"
   ]
  },
  {
   "cell_type": "code",
   "execution_count": 3,
   "metadata": {},
   "outputs": [],
   "source": [
    "# Set the coordinates of discriminated neighborhoods\n",
    "discriminated_neighborhoods = [(0, 0), (3, 3)]"
   ]
  },
  {
   "cell_type": "code",
   "execution_count": 38,
   "metadata": {},
   "outputs": [],
   "source": [
    "class MoneyAgent(mesa.Agent):\n",
    "\n",
    "    def __init__(self, unique_id, model, initial_neighborhood):\n",
    "        super().__init__(unique_id, model)\n",
    "        self.life_quality = 0.1  # Initialize life quality\n",
    "        self.initial_neighborhood = initial_neighborhood  # Track initial neighborhood\n",
    "        self.wealth = self.assign_initial_wealth(initial_neighborhood)  # Initialize wealth based on neighborhood\n",
    "\n",
    "    # might change back to constant initial wealth\n",
    "    def assign_initial_wealth(self, neighborhood):\n",
    "        # Define wealth distribution based on neighborhood\n",
    "        if neighborhood == \"Discriminated\":\n",
    "            return self.random.normalvariate(4, 2)  # Poor neighborhood\n",
    "        else:\n",
    "            return self.random.normalvariate(6, 2)  # Wealthy neighborhood\n",
    "\n",
    "    def move(self):\n",
    "        possible_steps = self.model.grid.get_neighborhood(\n",
    "            self.pos, moore=True, include_center=False\n",
    "        )\n",
    "        new_position = self.random.choice(possible_steps)\n",
    "        self.model.grid.move_agent(self, new_position)\n",
    "\n",
    "    def give_money(self):\n",
    "        cellmates = self.model.grid.get_cell_list_contents([self.pos])\n",
    "        cellmates.pop(cellmates.index(self))  # Ensure agent is not giving money to itself\n",
    "        if len(cellmates) > 1:\n",
    "            other = self.random.choice(cellmates)\n",
    "            other.wealth += 0.1 * (1 + other.life_quality)\n",
    "            self.wealth -= 0.1\n",
    "\n",
    "    def step(self):\n",
    "        self.move()\n",
    "        if self.wealth > 0:\n",
    "            self.give_money()\n",
    "\n",
    "class ServiceCompany:\n",
    "    def __init__(self, model, discriminated_neighborhoods, life_qual_multiplier):\n",
    "        self.model = model\n",
    "        self.discriminated_neighborhoods = discriminated_neighborhoods\n",
    "        self.life_qual_multiplier = life_qual_multiplier\n",
    "        self.profit_current = 0.01  # Initialize profit_current\n",
    "        self.profit = []  # Initialize profit list\n",
    "        self.cost = []  # Initialize cost list\n",
    "\n",
    "    def provide_service(self):\n",
    "        width, height = self.model.grid.width, self.model.grid.height\n",
    "        profit = 0  # Initialize profit for this step\n",
    "        cost = 0  # Initialize cost for this step\n",
    "        for x in range(width):\n",
    "            for y in range(height):\n",
    "                for content in self.model.grid.get_cell_list_contents((x, y)):\n",
    "                    agent = content\n",
    "                    if agent.initial_neighborhood == \"Non-Discriminated\":\n",
    "                        # Provide service to agents whose initial neighborhood is not discriminated\n",
    "                        agent.life_quality = math.sqrt(agent.life_quality * (1 + self.life_qual_multiplier))\n",
    "                        profit += (10*(self.profit_current**2) /(100 + self.profit_current**3))   # Calculate profit for this agent using profit_current\n",
    "                        cost += 0.02  # Increase company's cost for providing service for this step\n",
    "        # Append profit and cost for this step to their respective lists\n",
    "        self.profit.append(profit)\n",
    "        self.cost.append(cost)\n",
    "        self.profit_current += 0.1  # Update profit_current with the profit calculated for this step\n",
    "\n",
    "    def calculate_total_profit(self):\n",
    "        # Calculate total profit by summing up profit over all steps and subtracting total cost\n",
    "        total_revenue = sum(self.profit)  # Each service provided contributes to revenue by 1 unit\n",
    "        total_cost = sum(self.cost)\n",
    "        total_profit = total_revenue - total_cost\n",
    "        return total_profit"
   ]
  },
  {
   "cell_type": "code",
   "execution_count": null,
   "metadata": {},
   "outputs": [],
   "source": [
    "# Define MoneyModelWithCompany class\n",
    "class MoneyModelWithCompany(mesa.Model):\n",
    "    def __init__(self, N, width, height, discriminated_neighborhoods, life_qual_multiplier):\n",
    "        self.num_agents = N\n",
    "        self.grid = mesa.space.MultiGrid(width, height, True)\n",
    "        self.schedule = mesa.time.RandomActivation(self)\n",
    "        self.company = ServiceCompany(self, discriminated_neighborhoods, life_qual_multiplier)  # Include life_qual_multiplier\n",
    "\n",
    "        # Create agents\n",
    "        for i in range(self.num_agents):\n",
    "            initial_neighborhood = self.random.choice([\"Discriminated\", \"Non-Discriminated\"])\n",
    "            a = MoneyAgent(i, self, initial_neighborhood)  # Pass initial neighborhood\n",
    "            self.schedule.add(a)\n",
    "            x = self.random.randrange(self.grid.width)\n",
    "            y = self.random.randrange(self.grid.height)\n",
    "            self.grid.place_agent(a, (x, y))\n",
    "\n",
    "        self.datacollector = mesa.DataCollector(\n",
    "            model_reporters={\"Gini\": compute_gini,\n",
    "                             \"CompanyProfit\": lambda m: m.company.profit},\n",
    "            agent_reporters={\"Wealth\": \"wealth\",\n",
    "                             \"InitialNeighborhood\": \"initial_neighborhood\"}\n",
    "        )\n",
    "\n",
    "    def step(self):\n",
    "        self.datacollector.collect(self)\n",
    "        self.schedule.step()\n",
    "        self.company.provide_service()"
   ]
  },
  {
   "cell_type": "code",
   "execution_count": null,
   "metadata": {},
   "outputs": [],
   "source": [
    "# Set the coordinates of discriminated neighborhoods\n",
    "discriminated_neighborhoods = [(0, 0), (3, 3)]\n",
    "\n",
    "# Define the life quality multiplier\n",
    "life_qual_multiplier = 0.1\n",
    "\n",
    "# Create an instance of MoneyModelWithCompany\n",
    "model = MoneyModelWithCompany(100, 10, 10, discriminated_neighborhoods, life_qual_multiplier)\n",
    "\n",
    "# Run the simulation\n",
    "for i in range(10000):\n",
    "    model.step()  # Step the model"
   ]
  },
  {
   "cell_type": "code",
   "execution_count": null,
   "metadata": {},
   "outputs": [],
   "source": [
    "# Calculate the profit of the company\n",
    "total_profit = model.company.calculate_total_profit()\n",
    "print(\"Total Profit:\", total_profit)"
   ]
  },
  {
   "cell_type": "code",
   "execution_count": null,
   "metadata": {},
   "outputs": [],
   "source": [
    "model_data = model.datacollector.get_model_vars_dataframe()\n"
   ]
  },
  {
   "cell_type": "code",
   "execution_count": null,
   "metadata": {},
   "outputs": [],
   "source": [
    "model_data"
   ]
  },
  {
   "cell_type": "code",
   "execution_count": null,
   "metadata": {},
   "outputs": [],
   "source": [
    "# Plot the company's marginal profit over time\n",
    "marginal_profit = model.company.profit\n",
    "plt.plot(range(10000), marginal_profit, label=\"Profit\")\n",
    "#plt.plot(range(200), model.company.cost, label=\"Cost\")\n",
    "plt.xlabel(\"Time Step\")\n",
    "plt.ylabel(\"Amount\")\n",
    "plt.title(\"Company's Marginal Profit\")\n",
    "plt.legend()\n",
    "plt.xlim(-5, 205)\n",
    "\n",
    "plt.show()\n",
    "\n",
    "'''# Assuming you have already run the model and collected data\n",
    "# Get the profit data from the data collector\n",
    "model_data = model.datacollector.get_model_vars_dataframe()\n",
    "\n",
    "# Plot the profit over time\n",
    "plt.figure(figsize=(10, 6))\n",
    "sns.lineplot(data=model_data[\"CompanyProfit\"])\n",
    "plt.title(\"Company Profit over Time\")\n",
    "plt.xlabel(\"Steps\")\n",
    "plt.ylabel(\"Profit\")\n",
    "plt.show()\n",
    "'''"
   ]
  },
  {
   "cell_type": "code",
   "execution_count": null,
   "metadata": {},
   "outputs": [],
   "source": [
    "# Plot the company's profit over time\n",
    "marginal_profit = model.company.profit\n",
    "cumulative_profit = np.cumsum(marginal_profit)  # Calculate cumulative sum of profit\n",
    "\n",
    "plt.plot(range(10000), cumulative_profit, label=\"Cumulative Profit\")\n",
    "plt.xlabel(\"Time Step\")\n",
    "plt.ylabel(\"Cumulative Profit\")\n",
    "plt.title(\"Company's Cumulative Profit\")\n",
    "plt.legend()\n",
    "plt.xlim(-5, 10005)  # Adjust x-axis limit if needed\n",
    "\n",
    "plt.show()\n"
   ]
  },
  {
   "cell_type": "code",
   "execution_count": null,
   "metadata": {},
   "outputs": [],
   "source": [
    "# Plot the Gini coefficient over time\n",
    "g = sns.lineplot(data=model_data[\"Gini\"])\n",
    "g.set(title=\"Gini Coefficient over Time\", ylabel=\"Gini Coefficient\");"
   ]
  },
  {
   "cell_type": "code",
   "execution_count": null,
   "metadata": {},
   "outputs": [],
   "source": [
    "agent_wealth = model.datacollector.get_agent_vars_dataframe()\n",
    "agent_wealth.head()"
   ]
  },
  {
   "cell_type": "code",
   "execution_count": null,
   "metadata": {},
   "outputs": [],
   "source": [
    "# 2. Plot the Wealth of Agents Over Time\n",
    "\n",
    "# Plot the wealth of agents from discriminated neighborhoods over time\n",
    "sns.lineplot(data=agent_wealth, x=\"Step\", y=\"Wealth\", hue=\"InitialNeighborhood\")\n",
    "plt.title(\"Wealth of agents over time\")\n",
    "plt.xlabel(\"Step\")\n",
    "plt.ylabel(\"Wealth\")\n",
    "plt.show()"
   ]
  },
  {
   "cell_type": "code",
   "execution_count": null,
   "metadata": {},
   "outputs": [],
   "source": [
    "# Filter the data to include only steps l to r\n",
    "l = 0\n",
    "r = 10\n",
    "agent_wealth_zoomed = agent_wealth.loc[(l <= agent_wealth.index.get_level_values('Step')) & (agent_wealth.index.get_level_values('Step') <= r)]\n",
    "\n",
    "# Plot the wealth of agents from discriminated neighborhoods over time (zoomed in)\n",
    "sns.lineplot(data=agent_wealth_zoomed, x=\"Step\", y=\"Wealth\", hue=\"InitialNeighborhood\")\n",
    "plt.title(\"Wealth of agents over time (Steps 0-10)\")\n",
    "plt.xlabel(\"Step\")\n",
    "plt.ylabel(\"Wealth\")\n",
    "plt.show()"
   ]
  },
  {
   "cell_type": "code",
   "execution_count": null,
   "metadata": {},
   "outputs": [],
   "source": [
    "# Add a plot that compares agents with similar wealth at step 0 from different neighborhoods over time."
   ]
  },
  {
   "cell_type": "markdown",
   "metadata": {},
   "source": [
    "# Simulation with Policy Intervention after Step k"
   ]
  },
  {
   "cell_type": "code",
   "execution_count": null,
   "metadata": {},
   "outputs": [],
   "source": [
    "k = 10\n",
    "\n",
    "class ServiceCompany:\n",
    "    def __init__(self, model, discriminated_neighborhoods, life_qual_multiplier):\n",
    "        self.model = model\n",
    "        self.discriminated_neighborhoods = discriminated_neighborhoods\n",
    "        self.life_qual_multiplier = life_qual_multiplier\n",
    "        self.profit_current = 0.01  # Initialize profit_current\n",
    "        self.profit = []  # Initialize profit list\n",
    "        self.cost = []  # Initialize cost list\n",
    "\n",
    "    def provide_service(self):\n",
    "        width, height = self.model.grid.width, self.model.grid.height\n",
    "        profit = 0  # Initialize profit for this step\n",
    "        cost = 0  # Initialize cost for this step\n",
    "        \n",
    "        # Check the current step number\n",
    "        current_step = self.model.schedule.steps\n",
    "        for x in range(width):\n",
    "            for y in range(height):\n",
    "                for content in self.model.grid.get_cell_list_contents((x, y)):\n",
    "                    agent = content\n",
    "                    # Serve non-discriminated neighborhoods before step n, and everyone after step n\n",
    "                    if current_step > k or agent.initial_neighborhood != \"Discriminated\":\n",
    "                        # Provide service to agents whose initial neighborhood is not discriminated\n",
    "                        agent.life_quality = math.sqrt(agent.life_quality * (1 + self.life_qual_multiplier))\n",
    "                        profit += (10*(self.profit_current**2) /(100 + self.profit_current**3))   # Calculate profit for this agent using profit_current\n",
    "                        cost += 0.02  # Increase company's cost for providing service for this step\n",
    "        # Append profit and cost for this step to their respective lists\n",
    "        self.profit.append(profit)\n",
    "        self.cost.append(cost)\n",
    "        self.profit_current += 0.1  # Update profit_current with the profit calculated for this step\n",
    "\n",
    "    def calculate_total_profit(self):\n",
    "        # Calculate total profit by summing up profit over all steps and subtracting total cost\n",
    "        total_revenue = sum(self.profit)  # Each service provided contributes to revenue by 1 unit\n",
    "        total_cost = sum(self.cost)\n",
    "        total_profit = total_revenue - total_cost\n",
    "        return total_profit"
   ]
  },
  {
   "cell_type": "code",
   "execution_count": null,
   "metadata": {},
   "outputs": [],
   "source": [
    "# Set the coordinates of discriminated neighborhoods\n",
    "discriminated_neighborhoods = [(0, 0), (3, 3)]\n",
    "\n",
    "# Define the life quality multiplier\n",
    "life_qual_multiplier = 0.1\n",
    "\n",
    "# Create an instance of MoneyModelWithCompany\n",
    "model = MoneyModelWithCompany(100, 10, 10, discriminated_neighborhoods, life_qual_multiplier)\n",
    "\n",
    "# Run the simulation\n",
    "for i in range(100):\n",
    "    model.step()  # Step the model"
   ]
  },
  {
   "cell_type": "code",
   "execution_count": null,
   "metadata": {},
   "outputs": [],
   "source": [
    "# 1. Collect Agent Wealth Data with Neighborhood Information\n",
    "agent_wealth = model.datacollector.get_agent_vars_dataframe()\n",
    "\n",
    "# 2. Plot the Wealth of Agents Over Time\n",
    "\n",
    "# Plot the wealth of agents from discriminated neighborhoods over time\n",
    "sns.lineplot(data=agent_wealth, x=\"Step\", y=\"Wealth\", hue=\"InitialNeighborhood\")\n",
    "plt.title(\"Wealth of agents over time\")\n",
    "plt.xlabel(\"Step\")\n",
    "plt.ylabel(\"Wealth\")\n",
    "plt.show()"
   ]
  },
  {
   "cell_type": "code",
   "execution_count": null,
   "metadata": {},
   "outputs": [],
   "source": [
    "# Filter the data to include only steps l to r\n",
    "l = 0\n",
    "r = 50\n",
    "agent_wealth_zoomed = agent_wealth.loc[(l <= agent_wealth.index.get_level_values('Step')) & (agent_wealth.index.get_level_values('Step') <= r)]\n",
    "\n",
    "# Plot the wealth of agents from discriminated neighborhoods over time (zoomed in)\n",
    "sns.lineplot(data=agent_wealth_zoomed, x=\"Step\", y=\"Wealth\", hue=\"InitialNeighborhood\")\n",
    "plt.title(\"Wealth of agents over time (Steps 0-50)\")\n",
    "plt.xlabel(\"Step\")\n",
    "plt.ylabel(\"Wealth\")\n",
    "plt.show()"
   ]
  },
  {
   "cell_type": "code",
   "execution_count": null,
   "metadata": {},
   "outputs": [],
   "source": [
    "# Calculate the target metrics\n",
    "gini = model.datacollector.get_model_vars_dataframe()\n",
    "\n",
    "# Plot the Gini coefficient over time\n",
    "g = sns.lineplot(data=gini)\n",
    "g.set(title=\"Gini Coefficient over Time\", ylabel=\"Gini Coefficient\");"
   ]
  },
  {
   "cell_type": "markdown",
   "metadata": {},
   "source": [
    "# Model with gini coefficient as input to company's profit function"
   ]
  },
  {
   "cell_type": "code",
   "execution_count": null,
   "metadata": {},
   "outputs": [],
   "source": [
    "class MoneyModelWithCompany(mesa.Model):\n",
    "    def __init__(self, N, width, height, discriminated_neighborhoods, life_qual_multiplier):\n",
    "        self.num_agents = N\n",
    "        self.grid = mesa.space.MultiGrid(width, height, True)\n",
    "        self.schedule = mesa.time.RandomActivation(self)\n",
    "        self.company = ServiceCompany(self, discriminated_neighborhoods, life_qual_multiplier)  # Include life_qual_multiplier\n",
    "\n",
    "        # Create agents\n",
    "        for i in range(self.num_agents):\n",
    "            initial_neighborhood = self.random.choice([\"Discriminated\", \"Non-Discriminated\"])\n",
    "            a = MoneyAgent(i, self, initial_neighborhood)  # Pass initial neighborhood\n",
    "            self.schedule.add(a)\n",
    "            x = self.random.randrange(self.grid.width)\n",
    "            y = self.random.randrange(self.grid.height)\n",
    "            self.grid.place_agent(a, (x, y))\n",
    "\n",
    "        self.datacollector = mesa.DataCollector(\n",
    "            model_reporters={\"Gini\": compute_gini,\n",
    "                             \"CompanyProfit\": lambda m: m.company.profit},\n",
    "            agent_reporters={\"Wealth\": \"wealth\",\n",
    "                             \"InitialNeighborhood\": \"initial_neighborhood\"}\n",
    "        )\n",
    "\n",
    "    def step(self):\n",
    "        self.datacollector.collect(self)\n",
    "        self.schedule.step()\n",
    "        self.company.provide_service()\n",
    "\n",
    "        # Calculate Gini coefficient\n",
    "        gini = compute_gini(self)\n",
    "\n",
    "        # Update profit with respect to Gini coefficient\n",
    "        for i in range(len(self.company.profit)):\n",
    "            self.company.profit[i] /= 1 - gini/4"
   ]
  },
  {
   "cell_type": "code",
   "execution_count": null,
   "metadata": {},
   "outputs": [],
   "source": [
    "# Set the coordinates of discriminated neighborhoods\n",
    "discriminated_neighborhoods = [(0, 0), (3, 3)]\n",
    "\n",
    "# Define the life quality multiplier\n",
    "life_qual_multiplier = 0.1\n",
    "\n",
    "# Create an instance of MoneyModelWithCompany\n",
    "model = MoneyModelWithCompany(100, 10, 10, discriminated_neighborhoods, life_qual_multiplier)\n",
    "\n",
    "# Run the simulation\n",
    "for i in range(200):\n",
    "    model.step()  # Step the model"
   ]
  },
  {
   "cell_type": "code",
   "execution_count": null,
   "metadata": {},
   "outputs": [],
   "source": [
    "# Plot the company's marginal profit over time\n",
    "marginal_profit = model.company.profit\n",
    "plt.plot(range(200), marginal_profit, label=\"Profit\")\n",
    "#plt.plot(range(200), model.company.cost, label=\"Cost\")\n",
    "plt.xlabel(\"Time Step\")\n",
    "plt.ylabel(\"Amount\")\n",
    "plt.title(\"Company's Marginal Profit\")\n",
    "plt.legend()\n",
    "plt.xlim(-5, 105)\n",
    "\n",
    "plt.show()"
   ]
  },
  {
   "cell_type": "code",
   "execution_count": null,
   "metadata": {},
   "outputs": [],
   "source": [
    "# Plot the company's profit over time\n",
    "marginal_profit = model.company.profit\n",
    "cumulative_profit = np.cumsum(marginal_profit)  # Calculate cumulative sum of profit\n",
    "\n",
    "plt.plot(range(200), cumulative_profit, label=\"Cumulative Profit\")\n",
    "plt.xlabel(\"Time Step\")\n",
    "plt.ylabel(\"Cumulative Profit\")\n",
    "plt.title(\"Company's Cumulative Profit\")\n",
    "plt.legend()\n",
    "plt.xlim(-5, 205)  # Adjust x-axis limit if needed\n",
    "\n",
    "plt.show()\n"
   ]
  },
  {
   "cell_type": "code",
   "execution_count": null,
   "metadata": {},
   "outputs": [],
   "source": [
    "# Calculate the target metrics\n",
    "gini = model.datacollector.get_model_vars_dataframe()\n",
    "\n",
    "# Plot the Gini coefficient over time\n",
    "g = sns.lineplot(data=gini)\n",
    "g.set(title=\"Gini Coefficient over Time\", ylabel=\"Gini Coefficient\");"
   ]
  },
  {
   "cell_type": "markdown",
   "metadata": {},
   "source": [
    "# gini penalized and policy intervention\n",
    "\n",
    "increase the effect of policy intervention on gini coeff\n",
    "\n",
    "government should either make policy intervention or increase costs for the company at non discriminated areas (tax?)\n",
    "\n",
    "gini * something at each step\n",
    "\n",
    "if the service increases life quality of agents and if then agents can make more purchase, that would help company in the long run?"
   ]
  },
  {
   "cell_type": "code",
   "execution_count": 87,
   "metadata": {},
   "outputs": [],
   "source": [
    "k = 50\n",
    "\n",
    "class ServiceCompany:\n",
    "    def __init__(self, model, discriminated_neighborhoods, life_qual_multiplier):\n",
    "        self.model = model\n",
    "        self.discriminated_neighborhoods = discriminated_neighborhoods\n",
    "        self.life_qual_multiplier = life_qual_multiplier\n",
    "        self.profit_current = 0.01  # Initialize profit_current\n",
    "        self.profit = []  # Initialize profit list\n",
    "        self.cost = []  # Initialize cost list\n",
    "\n",
    "    def provide_service(self):\n",
    "        width, height = self.model.grid.width, self.model.grid.height\n",
    "        profit = 0  # Initialize profit for this step\n",
    "        cost = 0  # Initialize cost for this step\n",
    "        \n",
    "        # Check the current step number\n",
    "        current_step = self.model.schedule.steps\n",
    "        for x in range(width):\n",
    "            for y in range(height):\n",
    "                for content in self.model.grid.get_cell_list_contents((x, y)):\n",
    "                    agent = content\n",
    "                    # Serve non-discriminated neighborhoods before step n, and everyone after step n\n",
    "                    if current_step > k or agent.initial_neighborhood != \"Discriminated\":\n",
    "                        # Provide service to agents whose initial neighborhood is not discriminated\n",
    "                        agent.life_quality = math.sqrt(agent.life_quality * (1 + self.life_qual_multiplier))\n",
    "                        profit += (10*(self.profit_current**2) /(100 + self.profit_current**3))   # Calculate profit for this agent using profit_current\n",
    "                        cost += 0.02  # Increase company's cost for providing service for this step\n",
    "        # Append profit and cost for this step to their respective lists\n",
    "        self.profit.append(profit)\n",
    "        self.cost.append(cost)\n",
    "        self.profit_current += 0.1  # Update profit_current with the profit calculated for this step\n",
    "\n",
    "    def calculate_total_profit(self):\n",
    "        # Calculate total profit by summing up profit over all steps and subtracting total cost\n",
    "        total_revenue = sum(self.profit)  # Each service provided contributes to revenue by 1 unit\n",
    "        total_cost = sum(self.cost)\n",
    "        total_profit = total_revenue - total_cost\n",
    "        return total_profit"
   ]
  },
  {
   "cell_type": "code",
   "execution_count": 88,
   "metadata": {},
   "outputs": [],
   "source": [
    "class MoneyModelWithCompany(mesa.Model):\n",
    "    def __init__(self, N, width, height, discriminated_neighborhoods, life_qual_multiplier):\n",
    "        self.num_agents = N\n",
    "        self.grid = mesa.space.MultiGrid(width, height, True)\n",
    "        self.schedule = mesa.time.RandomActivation(self)\n",
    "        self.company = ServiceCompany(self, discriminated_neighborhoods, life_qual_multiplier)  # Include life_qual_multiplier\n",
    "\n",
    "        # Create agents\n",
    "        for i in range(self.num_agents):\n",
    "            initial_neighborhood = self.random.choice([\"Discriminated\", \"Non-Discriminated\"])\n",
    "            a = MoneyAgent(i, self, initial_neighborhood)  # Pass initial neighborhood\n",
    "            self.schedule.add(a)\n",
    "            x = self.random.randrange(self.grid.width)\n",
    "            y = self.random.randrange(self.grid.height)\n",
    "            self.grid.place_agent(a, (x, y))\n",
    "\n",
    "        self.datacollector = mesa.DataCollector(\n",
    "            model_reporters={\"Gini\": compute_gini,\n",
    "                             \"CompanyProfit\": lambda m: m.company.profit},\n",
    "            agent_reporters={\"Wealth\": \"wealth\",\n",
    "                             \"InitialNeighborhood\": \"initial_neighborhood\"}\n",
    "        )\n",
    "\n",
    "    def step(self):\n",
    "        self.datacollector.collect(self)\n",
    "        self.schedule.step()\n",
    "        self.company.provide_service()\n",
    "\n",
    "        # Calculate Gini coefficient\n",
    "        gini = compute_gini(self)\n",
    "\n",
    "        # Update profit with respect to Gini coefficient\n",
    "        for i in range(len(self.company.profit)):\n",
    "            self.company.profit[i] /= 1 - gini/8 # /4?"
   ]
  },
  {
   "cell_type": "code",
   "execution_count": 89,
   "metadata": {},
   "outputs": [
    {
     "name": "stderr",
     "output_type": "stream",
     "text": [
      "/var/folders/2p/zsvmljhd45n72ws61v37xglh0000gn/T/ipykernel_53014/1963673109.py:4: FutureWarning: The Mesa Model class was not initialized. In the future, you need to explicitly initialize the Model by calling super().__init__() on initialization.\n",
      "  super().__init__(unique_id, model)\n"
     ]
    }
   ],
   "source": [
    "# Set the coordinates of discriminated neighborhoods\n",
    "discriminated_neighborhoods = [(0, 0), (3, 3)]\n",
    "\n",
    "# Define the life quality multiplier\n",
    "life_qual_multiplier = 0.5\n",
    "\n",
    "# Create an instance of MoneyModelWithCompany\n",
    "model = MoneyModelWithCompany(100, 10, 10, discriminated_neighborhoods, life_qual_multiplier)\n",
    "\n",
    "# Run the simulation\n",
    "for i in range(200):\n",
    "    model.step()  # Step the model"
   ]
  },
  {
   "cell_type": "code",
   "execution_count": 90,
   "metadata": {},
   "outputs": [
    {
     "data": {
      "image/png": "[encoded data removed]",
      "text/plain": [
       "<Figure size 640x480 with 1 Axes>"
      ]
     },
     "metadata": {},
     "output_type": "display_data"
    }
   ],
   "source": [
    "# Plot the company's marginal profit over time\n",
    "marginal_profit = model.company.profit\n",
    "plt.plot(range(200), marginal_profit, label=\"Profit\")\n",
    "#plt.plot(range(200), model.company.cost, label=\"Cost\")\n",
    "plt.xlabel(\"Time Step\")\n",
    "plt.ylabel(\"Amount\")\n",
    "plt.title(\"Company's Marginal Profit\")\n",
    "plt.legend()\n",
    "plt.xlim(-5, 205)\n",
    "\n",
    "plt.show()"
   ]
  },
  {
   "cell_type": "code",
   "execution_count": 91,
   "metadata": {},
   "outputs": [
    {
     "data": {
      "image/png": "[encoded data removed]",
      "text/plain": [
       "<Figure size 640x480 with 1 Axes>"
      ]
     },
     "metadata": {},
     "output_type": "display_data"
    }
   ],
   "source": [
    "# Plot the company's profit over time\n",
    "marginal_profit = model.company.profit\n",
    "cumulative_profit = np.cumsum(marginal_profit)  # Calculate cumulative sum of profit\n",
    "\n",
    "plt.plot(range(200), cumulative_profit, label=\"Cumulative Profit\")\n",
    "plt.xlabel(\"Time Step\")\n",
    "plt.ylabel(\"Cumulative Profit\")\n",
    "plt.title(\"Company's Cumulative Profit\")\n",
    "plt.legend()\n",
    "plt.xlim(-5, 205)  # Adjust x-axis limit if needed\n",
    "\n",
    "plt.show()"
   ]
  },
  {
   "cell_type": "code",
   "execution_count": 92,
   "metadata": {},
   "outputs": [
    {
     "data": {
      "image/png": "[encoded data removed]",
      "text/plain": [
       "<Figure size 640x480 with 1 Axes>"
      ]
     },
     "metadata": {},
     "output_type": "display_data"
    }
   ],
   "source": [
    "# Calculate the target metrics\n",
    "gini = model.datacollector.get_model_vars_dataframe()\n",
    "\n",
    "# Plot the Gini coefficient over time\n",
    "g = sns.lineplot(data=gini)\n",
    "g.set(title=\"Gini Coefficient over Time\", ylabel=\"Gini Coefficient\");"
   ]
  },
  {
   "cell_type": "markdown",
   "metadata": {},
   "source": [
    "# Conclusions / Notes\n",
    "\n",
    "If the policy intervention is made at Step 100, if there is an already existing high inequality in wealth distribution, the marginal profits of company doesn't increase. However, the gini coefficient starts decreasing as the company provides service to everyone without discriminating and thus increasing the life quality of residents, which then leads to an increase in their wealth.\n",
    "\n",
    "Same with k = 50.\n",
    "\n"
   ]
  }
 ],
 "metadata": {
  "kernelspec": {
   "display_name": "base",
   "language": "python",
   "name": "python3"
  },
  "language_info": {
   "codemirror_mode": {
    "name": "ipython",
    "version": 3
   },
   "file_extension": ".py",
   "mimetype": "text/x-python",
   "name": "python",
   "nbconvert_exporter": "python",
   "pygments_lexer": "ipython3",
   "version": "3.11.4"
  }
 },
 "nbformat": 4,
 "nbformat_minor": 2
}
